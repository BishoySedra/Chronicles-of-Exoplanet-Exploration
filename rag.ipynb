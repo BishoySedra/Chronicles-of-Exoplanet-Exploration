{
 "cells": [
  {
   "cell_type": "markdown",
   "metadata": {},
   "source": [
    "# A Gentle Introduction to RAG Applications\n",
    "\n",
    "This notebook creates a simple RAG (Retrieval-Augmented Generation) system to answer questions from a PDF document using an open-source model."
   ]
  },
  {
   "cell_type": "code",
   "execution_count": 1,
   "metadata": {},
   "outputs": [],
   "source": [
    "PDF_FILE = \"Exoplanets.pdf\"\n",
    "\n",
    "# We'll be using Llama 3.1 8B for this example.\n",
    "MODEL = \"llama3.1\""
   ]
  },
  {
   "cell_type": "markdown",
   "metadata": {},
   "source": [
    "## Loading the PDF document\n",
    "\n",
    "Let's start by loading the PDF document and breaking it down into separate pages.\n",
    "\n",
    "<img src='images/documents.png' width=\"1000\">"
   ]
  },
  {
   "cell_type": "code",
   "execution_count": 2,
   "metadata": {},
   "outputs": [
    {
     "name": "stdout",
     "output_type": "stream",
     "text": [
      "Number of pages: 54\n",
      "Length of a page: 1096\n",
      "Content of a page:   \n",
      "Exoplanet Travel Bureau Virtual Reality Experience \n",
      "https://exoplanets.nasa.gov/alien -worlds/exoplanet -travel -bureau   \n",
      "  \n",
      "Eyes on Exoplanets   \n",
      "https://exoplanets.nasa.gov/eyes -on-exoplanets -web   \n",
      "  \n",
      "Eyes on Exoplanets Tutorial 1: The Basics   \n",
      "https://exoplanets.nasa.gov/resources/1051/eyes -on-exoplanets -tutorial -1-the-basics   \n",
      "  \n",
      "Eyes on Exoplanets Tutorial 2: Advanced Tutorial  \n",
      "https://exoplanets.nasa.gov/resources/1052/eyes -on-exoplanets -tutorial -2-advanced -tutorial   \n",
      "  \n",
      "Eyes on Exoplanets Tutorial 3: Tips and Tricks  \n",
      "https://exoplanets.nasa.gov/resources/1053/eyes -on-exoplanets -tutorial -3-tips-and-tricks   \n",
      "   Note: Eyes on Exoplanets Tutorials based on desktop version.   \n",
      "  \n",
      "  \n",
      "Habitable Hunt: A 'Pi in the Sky' Math Challenge   \n",
      "https://www.jpl.nasa.gov/edu/teach/activity/habitable -hunt -a-pi-in-the-sky-math -challenge   \n",
      "  \n",
      "Interactive: 5 Ways to Find a Planet   \n",
      "https://exoplanets.nasa.gov/alien -worlds/ways -to-find-a-planet   \n",
      "  \n",
      "Laboratory for the Study of Exoplanets (Flash)   \n",
      "https://www.cfa.harvard.edu/smgphp/otherworlds/ExoLab/index.html   \n"
     ]
    }
   ],
   "source": [
    "from langchain_community.document_loaders import PyPDFLoader\n",
    "\n",
    "loader = PyPDFLoader(PDF_FILE)\n",
    "pages = loader.load()\n",
    "\n",
    "print(f\"Number of pages: {len(pages)}\")\n",
    "print(f\"Length of a page: {len(pages[1].page_content)}\")\n",
    "print(\"Content of a page:\", pages[1].page_content)"
   ]
  },
  {
   "cell_type": "markdown",
   "metadata": {},
   "source": [
    "## Splitting the pages in chunks\n",
    "\n",
    "Pages are too long, so let's split pages into different chunks.\n",
    "\n",
    "<img src='images/splitter.png' width=\"1000\">\n"
   ]
  },
  {
   "cell_type": "code",
   "execution_count": 3,
   "metadata": {},
   "outputs": [
    {
     "name": "stdout",
     "output_type": "stream",
     "text": [
      "Number of chunks: 84\n",
      "Length of a chunk: 1090\n",
      "Content of a chunk: Exoplanet Travel Bureau Virtual Reality Experience \n",
      "https://exoplanets.nasa.gov/alien -worlds/exoplanet -travel -bureau   \n",
      "  \n",
      "Eyes on Exoplanets   \n",
      "https://exoplanets.nasa.gov/eyes -on-exoplanets -web   \n",
      "  \n",
      "Eyes on Exoplanets Tutorial 1: The Basics   \n",
      "https://exoplanets.nasa.gov/resources/1051/eyes -on-exoplanets -tutorial -1-the-basics   \n",
      "  \n",
      "Eyes on Exoplanets Tutorial 2: Advanced Tutorial  \n",
      "https://exoplanets.nasa.gov/resources/1052/eyes -on-exoplanets -tutorial -2-advanced -tutorial   \n",
      "  \n",
      "Eyes on Exoplanets Tutorial 3: Tips and Tricks  \n",
      "https://exoplanets.nasa.gov/resources/1053/eyes -on-exoplanets -tutorial -3-tips-and-tricks   \n",
      "   Note: Eyes on Exoplanets Tutorials based on desktop version.   \n",
      "  \n",
      "  \n",
      "Habitable Hunt: A 'Pi in the Sky' Math Challenge   \n",
      "https://www.jpl.nasa.gov/edu/teach/activity/habitable -hunt -a-pi-in-the-sky-math -challenge   \n",
      "  \n",
      "Interactive: 5 Ways to Find a Planet   \n",
      "https://exoplanets.nasa.gov/alien -worlds/ways -to-find-a-planet   \n",
      "  \n",
      "Laboratory for the Study of Exoplanets (Flash)   \n",
      "https://www.cfa.harvard.edu/smgphp/otherworlds/ExoLab/index.html\n"
     ]
    }
   ],
   "source": [
    "from langchain_text_splitters import RecursiveCharacterTextSplitter\n",
    "\n",
    "splitter = RecursiveCharacterTextSplitter(chunk_size=1500, chunk_overlap=100)\n",
    "\n",
    "chunks = splitter.split_documents(pages)\n",
    "print(f\"Number of chunks: {len(chunks)}\")\n",
    "print(f\"Length of a chunk: {len(chunks[1].page_content)}\")\n",
    "print(\"Content of a chunk:\", chunks[1].page_content)\n"
   ]
  },
  {
   "cell_type": "markdown",
   "metadata": {},
   "source": [
    "## Storing the chunks in a vector store\n",
    "\n",
    "We can now generate embeddings for every chunk and store them in a vector store.\n",
    "\n",
    "<img src='images/vectorstore.png' width=\"1000\">\n"
   ]
  },
  {
   "cell_type": "code",
   "execution_count": 4,
   "metadata": {},
   "outputs": [],
   "source": [
    "from langchain_community.vectorstores import FAISS\n",
    "from langchain_community.embeddings import OllamaEmbeddings\n",
    "\n",
    "embeddings = OllamaEmbeddings(model=MODEL)\n",
    "vectorstore = FAISS.from_documents(chunks, embeddings)"
   ]
  },
  {
   "cell_type": "markdown",
   "metadata": {},
   "source": [
    "## Setting up a retriever\n",
    "\n",
    "We can use a retriever to find chunks in the vector store that are similar to a supplied question.\n",
    "\n",
    "<img src='images/retriever.png' width=\"1000\">\n",
    "\n"
   ]
  },
  {
   "cell_type": "code",
   "execution_count": 5,
   "metadata": {},
   "outputs": [
    {
     "data": {
      "text/plain": [
       "[Document(metadata={'source': 'Exoplanets.pdf', 'page': 29}, page_content='potential for finding habitable environments beyond Earth.  \\nWhat is an exoplanet candidate?  \\nAn exoplanet candidate is a likely planet discovered by a telescope that has not yet been confirmed to \\nexist.'),\n",
       " Document(metadata={'source': 'Exoplanets.pdf', 'page': 25}, page_content='measurement difficult.  \\n \\nHow do the sizes and masses of exoplanets relate to their potential compositions?'),\n",
       " Document(metadata={'source': 'Exoplanets.pdf', 'page': 33}, page_content='investigation will determine if some of them possess atmospheres, oceans, or other signs of habitability.'),\n",
       " Document(metadata={'source': 'Exoplanets.pdf', 'page': 15}, page_content=\"which the universe is expanding.  \\n \\nWhat method do scientists use to measure the universe's expansion?\")]"
      ]
     },
     "execution_count": 5,
     "metadata": {},
     "output_type": "execute_result"
    }
   ],
   "source": [
    "retriever = vectorstore.as_retriever()\n",
    "retriever.invoke(\"What are the ways to find a planet?\")"
   ]
  },
  {
   "cell_type": "markdown",
   "metadata": {},
   "source": [
    "## Configuring the model\n",
    "\n",
    "We'll be using Ollama to load the local model in memory. After creating the model, we can invoke it with a question to get the response back.\n",
    "\n",
    "<img src='images/model.png' width=\"1000\">"
   ]
  },
  {
   "cell_type": "code",
   "execution_count": 6,
   "metadata": {},
   "outputs": [],
   "source": [
    "from langchain_ollama import ChatOllama\n",
    "\n",
    "model = ChatOllama(model=MODEL, temperature=0)\n",
    "# model.invoke(\"What are the ways to find a planet?\")"
   ]
  },
  {
   "cell_type": "markdown",
   "metadata": {},
   "source": [
    "## Parsing the model's response\n",
    "\n",
    "The response from the model is an `AIMessage` instance containing the answer. We can extract the text answer by using the appropriate output parser. We can connect the model and the parser using a chain.\n",
    "\n",
    "<img src='images/parser.png' width=\"1000\">\n"
   ]
  },
  {
   "cell_type": "code",
   "execution_count": 7,
   "metadata": {},
   "outputs": [],
   "source": [
    "from langchain_core.output_parsers import StrOutputParser\n",
    "\n",
    "parser = StrOutputParser()\n",
    "\n",
    "chain = model | parser \n",
    "# print(chain.invoke(\"What are the ways to find a planet?\"))"
   ]
  },
  {
   "cell_type": "markdown",
   "metadata": {},
   "source": [
    "## Setting up a prompt\n",
    "\n",
    "In addition to the question we want to ask, we also want to provide the model with the context from the PDF file. We can use a prompt template to define and reuse the prompt we'll use with the model.\n",
    "\n",
    "\n",
    "<img src='images/prompt.png' width=\"1000\">"
   ]
  },
  {
   "cell_type": "code",
   "execution_count": 8,
   "metadata": {},
   "outputs": [
    {
     "name": "stdout",
     "output_type": "stream",
     "text": [
      "\n",
      "You are an assistant that provides answers to questions. \n",
      "\n",
      "Answer the question and also provide the links in the context if the question is related. \n",
      "\n",
      "Be as concise as possible and go straight to the point.\n",
      "\n",
      "Context: Here is some context\n",
      "\n",
      "Question: Here is a question\n",
      "\n"
     ]
    }
   ],
   "source": [
    "from langchain.prompts import PromptTemplate\n",
    "\n",
    "#  based on a given context\n",
    "# you can also provide the infromation if the context doesn't have it\n",
    "\n",
    "# If you can't answer the\n",
    "#question, reply \"I don't know\" and also provide the links in the context if relevant.\n",
    "\n",
    "template = \"\"\"\n",
    "You are an assistant that provides answers to questions. \n",
    "\n",
    "Answer the question and also provide the links in the context if the question is related. \n",
    "\n",
    "Be as concise as possible and go straight to the point.\n",
    "\n",
    "Context: {context}\n",
    "\n",
    "Question: {question}\n",
    "\"\"\"\n",
    "\n",
    "prompt = PromptTemplate.from_template(template)\n",
    "print(prompt.format(context=\"Here is some context\", question=\"Here is a question\"))"
   ]
  },
  {
   "cell_type": "markdown",
   "metadata": {},
   "source": [
    "## Adding the prompt to the chain\n",
    "\n",
    "We can now chain the prompt with the model and the parser.\n",
    "\n",
    "<img src='images/chain1.png' width=\"1000\">"
   ]
  },
  {
   "cell_type": "code",
   "execution_count": 9,
   "metadata": {},
   "outputs": [],
   "source": [
    "chain = prompt | model | parser\n",
    "\n",
    "# chain.invoke({\n",
    "#     \"context\": \"exoplanet\", \n",
    "#     \"question\": \"What are the ways to find a planet?\"\n",
    "# })\n"
   ]
  },
  {
   "cell_type": "markdown",
   "metadata": {},
   "source": [
    "## Adding the retriever to the chain\n",
    "\n",
    "Finally, we can connect the retriever to the chain to get the context from the vector store.\n",
    "\n",
    "<img src='images/chain2.png' width=\"1000\">"
   ]
  },
  {
   "cell_type": "code",
   "execution_count": 10,
   "metadata": {},
   "outputs": [],
   "source": [
    "from operator import itemgetter\n",
    "\n",
    "chain = (\n",
    "    {\n",
    "        \"context\": itemgetter(\"question\") | retriever,\n",
    "        \"question\": itemgetter(\"question\"),\n",
    "    }\n",
    "    | prompt\n",
    "    | model\n",
    "    | parser\n",
    ")"
   ]
  },
  {
   "cell_type": "markdown",
   "metadata": {},
   "source": [
    "## Using the chain to answer questions\n",
    "\n",
    "Finally, we can use the chain to ask questions that will be answered using the PDF document."
   ]
  },
  {
   "cell_type": "code",
   "execution_count": 11,
   "metadata": {},
   "outputs": [
    {
     "name": "stdout",
     "output_type": "stream",
     "text": [
      "Question: What are the ways to find a planet?\n",
      "Answer: According to the provided documents, there are several methods to find a planet:\n",
      "\n",
      "1. **Telescope observations**: Telescopes can detect exoplanet candidates by observing their effects on their host stars.\n",
      "2. **Transit method**: By measuring the decrease in brightness of a star as a planet passes in front of it.\n",
      "3. **Radial velocity method**: By measuring the star's wobbling motion caused by an orbiting planet.\n",
      "\n",
      "For more information, you can refer to:\n",
      "\n",
      "* NASA Exoplanet Archive: [https://exoplanets.nasa.gov/](https://exoplanets.nasa.gov/)\n",
      "* American Astronomical Society (AAS) Exoplanet Encyclopedia: [https://www.aas.org/publications/aas-exoplanet-encyclopedia](https://www.aas.org/publications/aas-exoplanet-encyclopedia)\n",
      "* European Space Agency (ESA) Exoplanets page: [https://www.esa.int/Science_Explained/Exoplanets](https://www.esa.int/Science_Explained/Exoplanets)\n",
      "*************************\n",
      "\n",
      "Question: What is an exoplanet?\n",
      "Answer: An exoplanet is a planet that orbits a star other than the Sun. \n",
      "\n",
      "Source: NASA's Exoplanets website - https://exoplanets.nasa.gov/\n",
      "\n",
      "Note: The provided context is about exoplanets, but this question is answered directly without referencing any specific document or page content.\n",
      "*************************\n",
      "\n",
      "Question: Is there life on other planets?\n",
      "Answer: The possibility of life on other planets is still a topic of ongoing research and debate.\n",
      "\n",
      "According to NASA, \"the investigation will determine if some of them possess atmospheres, oceans, or other signs of habitability\" (Source: Exoplanets.pdf, page 33).\n",
      "\n",
      "However, there is no conclusive evidence yet to confirm the existence of life on other planets.\n",
      "\n",
      "For more information, you can visit:\n",
      "\n",
      "* NASA's Exoplanet Exploration website: https://exoplanets.nasa.gov/\n",
      "* The European Space Agency's (ESA) Exoplanet page: https://www.esa.int/Science_Explorers/Exoplanets\n",
      "*************************\n",
      "\n",
      "Question: How many exoplanets are there?\n",
      "Answer: As of my knowledge cutoff, there are over 4,000 confirmed exoplanets and thousands more candidates. (Source: NASA Exoplanet Archive)\n",
      "\n",
      "https://exoplanetarchive.ipac.caltech.edu/\n",
      "\n",
      "Note: The number is subject to change as new discoveries are made.\n",
      "*************************\n",
      "\n",
      "Question: Where are exoplanets?\n",
      "Answer: Exoplanets can be found orbiting other stars in various galaxies beyond our own Milky Way. However, most of the discovered exoplanets are located within the Milky Way galaxy.\n",
      "\n",
      "Source:\n",
      "https://www.nasa.gov/subject/10242-exoplanets\n",
      "\n",
      "Note: The majority of exoplanet discoveries have been made using telescopes and space missions like Kepler, which primarily focused on stars within our own galaxy.\n",
      "*************************\n",
      "\n",
      "Question: Our Milky Way Galaxy: How Big is Space?\n",
      "Answer: The size of space in our Milky Way galaxy is difficult to measure directly. However, we can estimate it based on the distances between stars and other celestial objects.\n",
      "\n",
      "According to NASA, the diameter of the Milky Way galaxy is approximately 100,000 light-years (ly). A light-year is a unit of distance that is equal to the distance light travels in one year, which is about 9.461 billion kilometers (5.88 billion miles).\n",
      "\n",
      "To put this into perspective, consider that the nearest star to our Sun, Proxima Centauri, is about 4.24 ly away.\n",
      "\n",
      "Source:\n",
      "https://www.nasa.gov/feature/galaxy-size-and-structure\n",
      "*************************\n",
      "\n"
     ]
    }
   ],
   "source": [
    "questions = [\n",
    "    \"What are the ways to find a planet?\",\n",
    "    \"What is an exoplanet?\",\n",
    "    \"Is there life on other planets?\",\n",
    "    \"How many exoplanets are there?\",\n",
    "    \"Where are exoplanets?\",\n",
    "    \"Our Milky Way Galaxy: How Big is Space?\",\n",
    "]\n",
    "\n",
    "for question in questions:\n",
    "    print(f\"Question: {question}\")\n",
    "    print(f\"Answer: {chain.invoke({'question': question})}\")\n",
    "    print(\"*************************\\n\")"
   ]
  },
  {
   "cell_type": "code",
   "execution_count": null,
   "metadata": {},
   "outputs": [],
   "source": []
  }
 ],
 "metadata": {
  "kernelspec": {
   "display_name": "Python (my_env)",
   "language": "python",
   "name": "my_env"
  },
  "language_info": {
   "codemirror_mode": {
    "name": "ipython",
    "version": 3
   },
   "file_extension": ".py",
   "mimetype": "text/x-python",
   "name": "python",
   "nbconvert_exporter": "python",
   "pygments_lexer": "ipython3",
   "version": "3.10.14"
  }
 },
 "nbformat": 4,
 "nbformat_minor": 2
}
